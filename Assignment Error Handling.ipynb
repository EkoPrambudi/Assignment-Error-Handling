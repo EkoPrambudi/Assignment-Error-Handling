{
 "cells": [
  {
   "cell_type": "code",
   "execution_count": 25,
   "id": "bb9ae2ef",
   "metadata": {},
   "outputs": [
    {
     "name": "stdout",
     "output_type": "stream",
     "text": [
      "Enter the first number: 1\n",
      "Enter the second number: 0\n",
      "Error: Cannot divide by zero.\n"
     ]
    }
   ],
   "source": [
    "def divide_numbers (num1,num2):\n",
    "    try:\n",
    "        result = num1 / num2\n",
    "        return result\n",
    "    except ZeroDivisionError:\n",
    "        print('Error: Cannot divide by zero.')\n",
    "num1 = int(input('Enter the first number: '))\n",
    "num2 = int(input('Enter the second number: '))\n",
    "divide_numbers (num1,num2)"
   ]
  },
  {
   "cell_type": "code",
   "execution_count": 42,
   "id": "0ef20703",
   "metadata": {},
   "outputs": [
    {
     "name": "stdout",
     "output_type": "stream",
     "text": [
      "Enter the first number: 20\n",
      "Enter the second number: 5\n",
      "Error: Both numbers must be integers.\n"
     ]
    }
   ],
   "source": [
    "def divide_numbers (a,b):\n",
    "    try:\n",
    "        result = a / b\n",
    "        return result\n",
    "    except TypeError:\n",
    "        print('Error: Both numbers must be integers.')\n",
    "a = input('Enter the first number: ')\n",
    "b = input('Enter the second number: ')\n",
    "divide_numbers (a,b)"
   ]
  },
  {
   "cell_type": "code",
   "execution_count": 46,
   "id": "7a137df2",
   "metadata": {},
   "outputs": [
    {
     "name": "stdout",
     "output_type": "stream",
     "text": [
      "Enter the first number: 20\n",
      "Enter the second number: 5\n",
      "Result of division:  4.0\n"
     ]
    }
   ],
   "source": [
    "def divide_numbers (num1,num2):\n",
    "    try:\n",
    "        result = num1 / num2\n",
    "        print('Result of division: ', result)\n",
    "    except:\n",
    "        print()\n",
    "num1 = int(input('Enter the first number: '))\n",
    "num2 = int(input('Enter the second number: '))\n",
    "divide_numbers (num1,num2)"
   ]
  },
  {
   "cell_type": "code",
   "execution_count": null,
   "id": "f8bc448b",
   "metadata": {},
   "outputs": [],
   "source": []
  }
 ],
 "metadata": {
  "kernelspec": {
   "display_name": "Python 3 (ipykernel)",
   "language": "python",
   "name": "python3"
  },
  "language_info": {
   "codemirror_mode": {
    "name": "ipython",
    "version": 3
   },
   "file_extension": ".py",
   "mimetype": "text/x-python",
   "name": "python",
   "nbconvert_exporter": "python",
   "pygments_lexer": "ipython3",
   "version": "3.10.9"
  }
 },
 "nbformat": 4,
 "nbformat_minor": 5
}
